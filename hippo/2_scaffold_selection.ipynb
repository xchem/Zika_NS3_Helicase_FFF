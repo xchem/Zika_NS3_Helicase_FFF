{
 "cells": [
  {
   "cell_type": "markdown",
   "id": "5cea711e-aca5-4dd5-ad93-fd031d1f9511",
   "metadata": {},
   "source": [
    "# FFF step 1: scaffold selection"
   ]
  },
  {
   "cell_type": "code",
   "execution_count": null,
   "id": "90a643f6-07d9-4fb5-988f-9878938dce5b",
   "metadata": {},
   "outputs": [],
   "source": [
    "%load_ext autoreload\n",
    "%autoreload 2\n",
    "import hippo\n",
    "from os import environ\n",
    "from pathlib import Path\n",
    "import json\n",
    "from mrich import print\n",
    "import mrich\n",
    "import shutil\n",
    "import pandas as pd"
   ]
  },
  {
   "cell_type": "markdown",
   "id": "173c7616-ed48-48b6-803d-550f25328306",
   "metadata": {},
   "source": [
    "## Get BulkDock HIPPO database"
   ]
  },
  {
   "cell_type": "code",
   "execution_count": null,
   "id": "50cfeb2b-56b5-40e3-8673-e7802d0b3940",
   "metadata": {},
   "outputs": [],
   "source": [
    "target_name = \"ZIKA_NS3_helicase\"\n",
    "merging_hypothesis = \"RNA-Cleft\""
   ]
  },
  {
   "cell_type": "code",
   "execution_count": null,
   "id": "1395c535-d36d-44ad-ae49-145925836d55",
   "metadata": {},
   "outputs": [],
   "source": [
    "animal = hippo.HIPPO(target_name, Path(environ[\"BULK\"])/\"TARGETS\"/target_name/f\"{target_name}.sqlite\")"
   ]
  },
  {
   "cell_type": "code",
   "execution_count": null,
   "id": "4bbb51c2-1ecf-43c2-b8e2-6183c402744c",
   "metadata": {},
   "outputs": [],
   "source": [
    "merging_hypotheses = json.load(open(\"merging_hypotheses.json\", \"rt\"))\n",
    "assert merging_hypothesis in merging_hypotheses"
   ]
  },
  {
   "cell_type": "markdown",
   "id": "a0480ab4-74c7-4a3b-ac6e-4df0eb608291",
   "metadata": {},
   "source": [
    "## Enter manual designs\n",
    "\n",
    "These will be used as scaffolds regardless of any curation"
   ]
  },
  {
   "cell_type": "code",
   "execution_count": null,
   "id": "3ff4de9d-d035-4016-9615-80e397eeeabb",
   "metadata": {},
   "outputs": [],
   "source": [
    "manual_designs = [\n",
    "    # populate tuples in this format:\n",
    "    # (smiles: str, alias: str, inspirations: list[str], tags: list[str]),\n",
    "    (\"n2nc1n(nc(Cl)cc1)n2\", \"8um3_soaked\", [\"8um3-a\"], []),\n",
    "]"
   ]
  },
  {
   "cell_type": "code",
   "execution_count": null,
   "id": "d26e262a-956b-4839-9596-830677f14f18",
   "metadata": {},
   "outputs": [],
   "source": [
    "for smiles, alias, inspirations, tags in manual_designs:\n",
    "    for inspiration in inspirations:\n",
    "        p = animal.poses[inspiration]\n",
    "        assert p, f\"inspiration not found {inspiration}\"\n",
    "    c = animal.register_compound(smiles=smiles, alias=alias)\n",
    "    for tag in tags:\n",
    "        c.add_tag(tag)\n",
    "    c.summary()"
   ]
  },
  {
   "cell_type": "markdown",
   "id": "d05beae2-25b6-4546-a857-318c16d730e8",
   "metadata": {},
   "source": [
    "## Parse Fragalysis curation CSVs"
   ]
  },
  {
   "cell_type": "code",
   "execution_count": null,
   "id": "45572fc5-b260-41ac-9dfc-f01ee506f85b",
   "metadata": {},
   "outputs": [],
   "source": [
    "curation_csvs = Path(\"../curation\").glob(\"*.csv\")\n",
    "curation_csvs = list(curation_csvs)\n",
    "mrich.print(curation_csvs)"
   ]
  },
  {
   "cell_type": "markdown",
   "id": "3620d291-cfcb-4c84-85af-fa9c26fb18bc",
   "metadata": {},
   "source": [
    "## Parse Syndirella manual input from chemistry review"
   ]
  },
  {
   "cell_type": "code",
   "execution_count": null,
   "id": "0bbe5900-a3a6-4722-a4de-b2c6c829e41a",
   "metadata": {},
   "outputs": [],
   "source": [
    "pass"
   ]
  },
  {
   "cell_type": "code",
   "execution_count": null,
   "id": "151fee2b-b543-4932-baf9-93004313d113",
   "metadata": {},
   "outputs": [],
   "source": []
  },
  {
   "cell_type": "markdown",
   "id": "d0432848-af0f-45fe-9554-e41087f072c0",
   "metadata": {},
   "source": [
    "## Select and Tag scaffolds\n",
    "\n",
    "Create a tag for each merging hypothesis's selected scaffolds. Consider using multiple criteria to select your scaffolds:\n",
    "\n",
    "- BulkDock export tag / metadata\n",
    "- Human-curation from Fragalysis\n",
    "- Human-review of chemistry"
   ]
  },
  {
   "cell_type": "code",
   "execution_count": null,
   "id": "f7fdc78c-4d3d-4e82-acc7-e5143c3d5218",
   "metadata": {},
   "outputs": [],
   "source": [
    "# start with all BulkDock exported poses\n",
    "scaffold_poses = animal.poses.get_by_metadata_substring_match(\"_fragalysis.sdf\")\n",
    "scaffold_poses"
   ]
  },
  {
   "cell_type": "code",
   "execution_count": null,
   "id": "f56cd280-56dd-4414-b2d8-997a50f55fc6",
   "metadata": {},
   "outputs": [],
   "source": [
    "# select the best pose (by RMSD to fragments) for each compound\n",
    "scaffold_poses = scaffold_poses.compounds.best_placed_poses\n",
    "scaffold_poses"
   ]
  },
  {
   "cell_type": "code",
   "execution_count": null,
   "id": "08df3589-a9f4-4016-8644-6417d919acbd",
   "metadata": {},
   "outputs": [],
   "source": [
    "# manually add some poses\n",
    "animal.poses(tag=\"[Other] Covalent to Cys262\").interactive()"
   ]
  },
  {
   "cell_type": "code",
   "execution_count": null,
   "id": "793e5135-ac52-4f31-838a-2e28702cb302",
   "metadata": {},
   "outputs": [],
   "source": [
    "# veto some poses\n",
    "scaffold_poses -= 159\n",
    "scaffold_poses -= 1210\n",
    "scaffold_poses -= 1386\n",
    "scaffold_poses -= 1388\n",
    "scaffold_poses -= 1405"
   ]
  },
  {
   "cell_type": "code",
   "execution_count": null,
   "id": "efe8b399-257f-4dc9-b89a-e1219050cefa",
   "metadata": {},
   "outputs": [],
   "source": [
    "# look at the poses\n",
    "scaffold_poses.interactive()"
   ]
  },
  {
   "cell_type": "code",
   "execution_count": null,
   "id": "e5904e5e-14b0-4cb6-98a9-a6fa789de27c",
   "metadata": {},
   "outputs": [],
   "source": [
    "# clear and add the scaffold tag\n",
    "tag = f\"{merging_hypothesis} scaffolds\"\n",
    "animal.tags.delete(tag)\n",
    "scaffold_poses.add_tag(tag)\n",
    "scaffold_poses.compounds.add_tag(tag)\n",
    "\n",
    "for record in manual_designs:\n",
    "    smiles = record[0]\n",
    "    c = animal.compounds(smiles=smiles)\n",
    "    c.add_tag(tag)"
   ]
  },
  {
   "cell_type": "markdown",
   "id": "bd0c3c3c-b61f-4a59-82be-a78b5c6d371c",
   "metadata": {},
   "source": [
    "## Create Syndirella inputs\n",
    "\n",
    "### Scaffold poses"
   ]
  },
  {
   "cell_type": "code",
   "execution_count": null,
   "id": "e2991787-012a-48a6-ad8d-ab1213f41047",
   "metadata": {},
   "outputs": [],
   "source": [
    "elab_path = Path(f\"../syndirella/{merging_hypothesis}\")"
   ]
  },
  {
   "cell_type": "code",
   "execution_count": null,
   "id": "0e9bf451-100c-4f34-8dc2-61aa2b363f05",
   "metadata": {
    "scrolled": true
   },
   "outputs": [],
   "source": [
    "df = scaffold_poses.to_syndirella(elab_path, separate=True)"
   ]
  },
  {
   "cell_type": "code",
   "execution_count": null,
   "id": "5704c111-323b-4694-98fc-912697ba6b36",
   "metadata": {},
   "outputs": [],
   "source": [
    "df"
   ]
  },
  {
   "cell_type": "markdown",
   "id": "dc9119e4-d578-4e00-80d4-01c4a71de331",
   "metadata": {},
   "source": [
    "### Manual designs"
   ]
  },
  {
   "cell_type": "code",
   "execution_count": null,
   "id": "2e0df2ea-1fe3-499d-8046-513b60eb188b",
   "metadata": {},
   "outputs": [],
   "source": [
    "dfs = []\n",
    "for smiles, alias, inspirations, tags in manual_designs:\n",
    "\n",
    "    out_key = animal.compounds(smiles=smiles).name\n",
    "    \n",
    "    inspirations = animal.poses[inspirations]\n",
    "    reference = inspirations[0]\n",
    "    d = dict(\n",
    "        smiles=smiles,\n",
    "        template=reference.name,\n",
    "        compound_set=out_key\n",
    "    )\n",
    "\n",
    "    for i, p in enumerate(inspirations):\n",
    "        d[f\"hit{i+1}\"] = p.name\n",
    "\n",
    "    data.append(d)\n",
    "\n",
    "    df = pd.DataFrame([d])\n",
    "\n",
    "    csv_name = elab_path / f\"{out_key}_syndirella_input.csv\"\n",
    "    mrich.writing(csv_name)\n",
    "    df.to_csv(csv_name, index=False)\n",
    "\n",
    "    sdf_name = elab_path / f\"{out_key}_syndirella_inspiration_hits.sdf\"\n",
    "    inspirations.write_sdf(\n",
    "            sdf_name,\n",
    "            inspirations=False,\n",
    "            tags=False,\n",
    "            metadata=False,\n",
    "            reference=False,\n",
    "            name_col=\"name\",\n",
    "    )\n",
    "\n",
    "    template_dir = elab_path / \"templates\"\n",
    "    mrich.writing(template_dir / reference.apo_path.name)\n",
    "    shutil.copy(reference.apo_path, template_dir / reference.apo_path.name)\n",
    "\n",
    "    dfs.append(df)\n",
    "\n",
    "pd.concat(dfs)"
   ]
  },
  {
   "cell_type": "code",
   "execution_count": null,
   "id": "6779af49-0bbf-4395-a898-197ecf9efb72",
   "metadata": {},
   "outputs": [],
   "source": []
  }
 ],
 "metadata": {
  "kernelspec": {
   "display_name": "Python 3 (ipykernel)",
   "language": "python",
   "name": "python3"
  },
  "language_info": {
   "codemirror_mode": {
    "name": "ipython",
    "version": 3
   },
   "file_extension": ".py",
   "mimetype": "text/x-python",
   "name": "python",
   "nbconvert_exporter": "python",
   "pygments_lexer": "ipython3",
   "version": "3.12.8"
  }
 },
 "nbformat": 4,
 "nbformat_minor": 5
}
