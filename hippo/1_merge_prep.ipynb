{
 "cells": [
  {
   "cell_type": "markdown",
   "id": "2647d525-7b2a-450f-bfdf-372bb714fc68",
   "metadata": {},
   "source": [
    "# FFF step 1: merge prep"
   ]
  },
  {
   "cell_type": "code",
   "execution_count": 1,
   "id": "2219f460-cee0-4c10-8a51-5d8b6d3201bd",
   "metadata": {},
   "outputs": [],
   "source": [
    "%load_ext autoreload\n",
    "%autoreload 2\n",
    "import hippo\n",
    "from os import environ, system\n",
    "from pathlib import Path\n",
    "import json\n",
    "from mrich import print\n",
    "import mrich\n",
    "import shutil\n",
    "import molparse as mp"
   ]
  },
  {
   "cell_type": "markdown",
   "id": "2a66de41-9717-4596-b59e-51314d1f4620",
   "metadata": {},
   "source": [
    "## Get BulkDock HIPPO database"
   ]
  },
  {
   "cell_type": "code",
   "execution_count": 2,
   "id": "459f31a9-ffa0-48b4-812c-ad4348980cd9",
   "metadata": {},
   "outputs": [],
   "source": [
    "target_name = \"ZIKA_NS3_helicase\""
   ]
  },
  {
   "cell_type": "code",
   "execution_count": 3,
   "id": "567a1c07-ae3c-4dcf-9e54-8ad222e0e493",
   "metadata": {},
   "outputs": [
    {
     "data": {
      "text/html": [
       "<pre style=\"white-space:pre;overflow-x:auto;line-height:normal;font-family:Menlo,'DejaVu Sans Mono',consolas,'Courier New',monospace;margin:0px\"><span style=\"font-weight: bold\"> Creating HIPPO animal</span>\n",
       "</pre>\n"
      ],
      "text/plain": [
       "\u001b[1m Creating HIPPO animal\u001b[0m\n"
      ]
     },
     "metadata": {},
     "output_type": "display_data"
    },
    {
     "data": {
      "text/html": [
       "<pre style=\"white-space:pre;overflow-x:auto;line-height:normal;font-family:Menlo,'DejaVu Sans Mono',consolas,'Courier New',monospace;margin:0px\"><span style=\"color: #008080; text-decoration-color: #008080; font-weight: bold\">name</span> = <span style=\"color: #00d7af; text-decoration-color: #00d7af\">ZIKA_NS3_helicase</span>\n",
       "</pre>\n"
      ],
      "text/plain": [
       "\u001b[1;36mname\u001b[0m = \u001b[38;5;43mZIKA_NS3_helicase\u001b[0m\n"
      ]
     },
     "metadata": {},
     "output_type": "display_data"
    },
    {
     "data": {
      "text/html": [
       "<pre style=\"white-space:pre;overflow-x:auto;line-height:normal;font-family:Menlo,'DejaVu Sans Mono',consolas,'Courier New',monospace;margin:0px\"><span style=\"color: #008080; text-decoration-color: #008080; font-weight: bold\">db_path</span> = <span style=\"color: #d7af00; text-decoration-color: #d7af00\">/opt/xchem-fragalysis-2/maxwin/BulkDock/TARGETS/ZIKA_NS3_helicase/ZIKA_NS3_helicase.sqlite</span>\n",
       "</pre>\n"
      ],
      "text/plain": [
       "\u001b[1;36mdb_path\u001b[0m = \u001b[38;5;178m/opt/xchem-fragalysis-2/maxwin/BulkDock/TARGETS/ZIKA_NS3_helicase/ZIKA_NS3_helicase.sqlite\u001b[0m\n"
      ]
     },
     "metadata": {},
     "output_type": "display_data"
    },
    {
     "data": {
      "text/html": [
       "<pre style=\"white-space:pre;overflow-x:auto;line-height:normal;font-family:Menlo,'DejaVu Sans Mono',consolas,'Courier New',monospace;margin:0px\"><span style=\"color: #808080; text-decoration-color: #808080\">DEBUG: hippo.Database.__init__()</span>\n",
       "</pre>\n"
      ],
      "text/plain": [
       "\u001b[90mDEBUG: hippo.Database.__init__()\u001b[0m\n"
      ]
     },
     "metadata": {},
     "output_type": "display_data"
    },
    {
     "data": {
      "text/html": [
       "<pre style=\"white-space:pre;overflow-x:auto;line-height:normal;font-family:Menlo,'DejaVu Sans Mono',consolas,'Courier New',monospace;margin:0px\"><span style=\"color: #808080; text-decoration-color: #808080\">DEBUG: Database.path = /opt/xchem-fragalysis-2/maxwin/BulkDock/TARGETS/ZIKA_NS3_helicase/ZIKA_NS3_helicase.sqlite</span>\n",
       "</pre>\n"
      ],
      "text/plain": [
       "\u001b[90mDEBUG: Database.path = /opt/xchem-fragalysis-2/maxwin/BulkDock/TARGETS/ZIKA_NS3_helicase/ZIKA_NS3_helicase.sqlite\u001b[0m\n"
      ]
     },
     "metadata": {},
     "output_type": "display_data"
    },
    {
     "data": {
      "text/html": [
       "<pre style=\"white-space:pre;overflow-x:auto;line-height:normal;font-family:Menlo,'DejaVu Sans Mono',consolas,'Courier New',monospace;margin:0px\"><span style=\"color: #808080; text-decoration-color: #808080\">DEBUG: hippo.Database.connect()</span>\n",
       "</pre>\n"
      ],
      "text/plain": [
       "\u001b[90mDEBUG: hippo.Database.connect()\u001b[0m\n"
      ]
     },
     "metadata": {},
     "output_type": "display_data"
    },
    {
     "data": {
      "text/html": [
       "<pre style=\"white-space:pre;overflow-x:auto;line-height:normal;font-family:Menlo,'DejaVu Sans Mono',consolas,'Courier New',monospace;margin:0px\"><span style=\"color: #808080; text-decoration-color: #808080\">DEBUG: sqlite3.version='2.6.0'</span>\n",
       "</pre>\n"
      ],
      "text/plain": [
       "\u001b[90mDEBUG: sqlite3.version='2.6.0'\u001b[0m\n"
      ]
     },
     "metadata": {},
     "output_type": "display_data"
    },
    {
     "data": {
      "text/html": [
       "<pre style=\"white-space:pre;overflow-x:auto;line-height:normal;font-family:Menlo,'DejaVu Sans Mono',consolas,'Courier New',monospace;margin:0px\"><span style=\"background-color: #008000; font-weight: bold\"> Success </span><span style=\"color: #008000; text-decoration-color: #008000; font-weight: bold\"> Database connected @</span><span style=\"color: #d7af00; text-decoration-color: #d7af00; font-weight: bold\"> </span>\n",
       "<span style=\"color: #d7af00; text-decoration-color: #d7af00; font-weight: bold\">/opt/xchem-fragalysis-2/maxwin/BulkDock/TARGETS/ZIKA_NS3_helicase/ZIKA_NS3_helicase.sqlite!</span>\n",
       "</pre>\n"
      ],
      "text/plain": [
       "\u001b[1;7;32m Success \u001b[0m\u001b[1;32m Database connected @\u001b[0m\u001b[1;38;5;178m \u001b[0m\n",
       "\u001b[1;38;5;178m/opt/xchem-fragalysis-2/maxwin/BulkDock/TARGETS/ZIKA_NS3_helicase/ZIKA_NS3_helicase.sqlite!\u001b[0m\n"
      ]
     },
     "metadata": {},
     "output_type": "display_data"
    },
    {
     "data": {
      "text/html": [
       "<pre style=\"white-space:pre;overflow-x:auto;line-height:normal;font-family:Menlo,'DejaVu Sans Mono',consolas,'Courier New',monospace;margin:0px\"><span style=\"background-color: #008000; font-weight: bold\"> Success </span><span style=\"color: #008000; text-decoration-color: #008000; font-weight: bold\"> Initialised animal</span><span style=\"color: #008080; text-decoration-color: #008080; font-weight: bold\"> HIPPO(\"ZIKA_NS3_helicase\")!</span>\n",
       "</pre>\n"
      ],
      "text/plain": [
       "\u001b[1;7;32m Success \u001b[0m\u001b[1;32m Initialised animal\u001b[0m\u001b[1;36m HIPPO(\"ZIKA_NS3_helicase\")!\u001b[0m\n"
      ]
     },
     "metadata": {},
     "output_type": "display_data"
    }
   ],
   "source": [
    "animal = hippo.HIPPO(target_name, Path(environ[\"BULK\"])/\"TARGETS\"/target_name/f\"{target_name}.sqlite\")"
   ]
  },
  {
   "cell_type": "markdown",
   "id": "4e56bff2-81ef-4e06-9e6c-3a5f01c06557",
   "metadata": {},
   "source": [
    "## Define merging hypotheses"
   ]
  },
  {
   "cell_type": "code",
   "execution_count": 4,
   "id": "04bba1aa-bd5a-49f6-9f32-aa8b75a2f1ed",
   "metadata": {},
   "outputs": [
    {
     "data": {
      "text/plain": [
       "{'[Other] ATP site',\n",
       " '[Other] Covalent to Cys262',\n",
       " '[Other] Crystal contact - not trust',\n",
       " '[Other] RNA Cleft',\n",
       " '[Other] upload_1 2025-01-30',\n",
       " 'hits'}"
      ]
     },
     "execution_count": 4,
     "metadata": {},
     "output_type": "execute_result"
    }
   ],
   "source": [
    "animal.tags.unique"
   ]
  },
  {
   "cell_type": "code",
   "execution_count": 5,
   "id": "76b287d7-38ba-4f3c-a792-80a9eb22dcee",
   "metadata": {},
   "outputs": [],
   "source": [
    "merging_hypotheses = {\n",
    "    # nickname: tag,\n",
    "    \"RNA-Cleft\" : \"[Other] RNA Cleft\",\n",
    "}\n",
    "\n",
    "json.dump(merging_hypotheses, open(\"merging_hypotheses.json\", \"wt\"))"
   ]
  },
  {
   "cell_type": "code",
   "execution_count": 6,
   "id": "166d35e4-0a9c-4573-be28-f2858cabbe92",
   "metadata": {},
   "outputs": [
    {
     "data": {
      "text/plain": [
       "0"
      ]
     },
     "execution_count": 6,
     "metadata": {},
     "output_type": "execute_result"
    }
   ],
   "source": [
    "# rename things in the README for convenience\n",
    "system(f\"sed -i 's/TARGET_NAME/{target_name}/g' ../README.md\")\n",
    "system(f\"sed -i 's/HYPOTHESIS_NICKNAME/{list(merging_hypotheses.keys())[0]}/g' ../README.md\")"
   ]
  },
  {
   "cell_type": "markdown",
   "id": "19e3a917-2110-4efd-89de-61492202c3c5",
   "metadata": {},
   "source": [
    "## Create subdirectories"
   ]
  },
  {
   "cell_type": "code",
   "execution_count": 7,
   "id": "8e47e7fc-7d33-4b30-8137-1d636da02dd5",
   "metadata": {},
   "outputs": [],
   "source": [
    "for nickname in merging_hypotheses:\n",
    "    (Path(\"../fragmenstein\") / nickname).mkdir(exist_ok=True, parents=True)\n",
    "    (Path(\"../knitwork\") / nickname).mkdir(exist_ok=True, parents=True)\n",
    "    (Path(\"../syndirella\") / nickname).mkdir(exist_ok=True, parents=True)"
   ]
  },
  {
   "cell_type": "markdown",
   "id": "2fe6f3a6-9125-41ac-b0c4-fb5128308570",
   "metadata": {},
   "source": [
    "## Knitwork & Fragmenstein inputs\n",
    "\n",
    "### Create input SDFs & CSVs"
   ]
  },
  {
   "cell_type": "code",
   "execution_count": 8,
   "id": "2cc75013-8170-40a0-8e10-8d704ec7c155",
   "metadata": {},
   "outputs": [
    {
     "data": {
      "text/html": [
       "<pre style=\"white-space:pre;overflow-x:auto;line-height:normal;font-family:Menlo,'DejaVu Sans Mono',consolas,'Courier New',monospace;margin:0px\">╭───────────╮\n",
       "│ RNA-Cleft │\n",
       "╰───────────╯\n",
       "</pre>\n"
      ],
      "text/plain": [
       "╭───────────╮\n",
       "│ RNA-Cleft │\n",
       "╰───────────╯\n"
      ]
     },
     "metadata": {},
     "output_type": "display_data"
    },
    {
     "data": {
      "text/html": [
       "<pre style=\"white-space:pre;overflow-x:auto;line-height:normal;font-family:Menlo,'DejaVu Sans Mono',consolas,'Courier New',monospace;margin:0px\"><span style=\"color: #008080; text-decoration-color: #008080; font-weight: bold\">poses</span> = <span style=\"font-weight: bold; text-decoration: underline\">poses tagged \"[Other] RNA Cleft\": {P × 11}</span>\n",
       "</pre>\n"
      ],
      "text/plain": [
       "\u001b[1;36mposes\u001b[0m = \u001b[1;4mposes tagged \"[Other] RNA Cleft\": {P × 11}\u001b[0m\n"
      ]
     },
     "metadata": {},
     "output_type": "display_data"
    },
    {
     "data": {
      "text/html": [
       "<pre style=\"white-space:pre;overflow-x:auto;line-height:normal;font-family:Menlo,'DejaVu Sans Mono',consolas,'Courier New',monospace;margin:0px\"><span style=\"color: #008080; text-decoration-color: #008080; font-weight: bold\">out_path</span> = <span style=\"color: #d7af00; text-decoration-color: #d7af00\">/opt/xchem-fragalysis-2/maxwin/Zika_NS3_Helicase_FFF/knitwork/RNA-Cleft/RNA-Cleft_input.csv</span>\n",
       "</pre>\n"
      ],
      "text/plain": [
       "\u001b[1;36mout_path\u001b[0m = \u001b[38;5;178m/opt/xchem-fragalysis-2/maxwin/Zika_NS3_Helicase_FFF/knitwork/RNA-Cleft/RNA-Cleft_input.csv\u001b[0m\n"
      ]
     },
     "metadata": {},
     "output_type": "display_data"
    },
    {
     "data": {
      "text/html": [
       "<pre style=\"white-space:pre;overflow-x:auto;line-height:normal;font-family:Menlo,'DejaVu Sans Mono',consolas,'Courier New',monospace;margin:0px\"><span style=\"color: #008080; text-decoration-color: #008080; font-weight: bold\">path_root</span> = <span style=\"color: #d7af00; text-decoration-color: #d7af00\">/opt/xchem-fragalysis-2/maxwin/Zika_NS3_Helicase_FFF/knitwork/RNA-Cleft</span>\n",
       "</pre>\n"
      ],
      "text/plain": [
       "\u001b[1;36mpath_root\u001b[0m = \u001b[38;5;178m/opt/xchem-fragalysis-2/maxwin/Zika_NS3_Helicase_FFF/knitwork/RNA-Cleft\u001b[0m\n"
      ]
     },
     "metadata": {},
     "output_type": "display_data"
    },
    {
     "data": {
      "text/html": [
       "<pre style=\"white-space:pre;overflow-x:auto;line-height:normal;font-family:Menlo,'DejaVu Sans Mono',consolas,'Courier New',monospace;margin:0px\"><span style=\"color: #008080; text-decoration-color: #008080; font-weight: bold\">aligned_files_dir</span> = ..<span style=\"color: #800080; text-decoration-color: #800080\">/</span><span style=\"color: #ff00ff; text-decoration-color: #ff00ff\">aligned_files</span>\n",
       "</pre>\n"
      ],
      "text/plain": [
       "\u001b[1;36maligned_files_dir\u001b[0m = ..\u001b[35m/\u001b[0m\u001b[95maligned_files\u001b[0m\n"
      ]
     },
     "metadata": {},
     "output_type": "display_data"
    },
    {
     "data": {
      "text/html": [
       "<pre style=\"white-space:pre;overflow-x:auto;line-height:normal;font-family:Menlo,'DejaVu Sans Mono',consolas,'Courier New',monospace;margin:0px\"><span style=\"background-color: #d7af00; font-weight: bold\"> DISK </span> Writing <span style=\"color: #d7af00; text-decoration-color: #d7af00\">/opt/xchem-fragalysis-2/maxwin/Zika_NS3_Helicase_FFF/knitwork/RNA-Cleft/RNA-Cleft_input.csv</span>...\n",
       "</pre>\n"
      ],
      "text/plain": [
       "\u001b[1;7;38;5;178m DISK \u001b[0m Writing \u001b[38;5;178m/opt/xchem-fragalysis-2/maxwin/Zika_NS3_Helicase_FFF/knitwork/RNA-Cleft/RNA-Cleft_input.csv\u001b[0m...\n"
      ]
     },
     "metadata": {},
     "output_type": "display_data"
    },
    {
     "data": {
      "application/vnd.jupyter.widget-view+json": {
       "model_id": "f2de7ba4bcc14ce1a437d9f78c789e18",
       "version_major": 2,
       "version_minor": 0
      },
      "text/plain": [
       "Output()"
      ]
     },
     "metadata": {},
     "output_type": "display_data"
    },
    {
     "data": {
      "text/html": [
       "<pre style=\"white-space:pre;overflow-x:auto;line-height:normal;font-family:Menlo,'DejaVu Sans Mono',consolas,'Courier New',monospace;margin:0px\"></pre>\n"
      ],
      "text/plain": []
     },
     "metadata": {},
     "output_type": "display_data"
    },
    {
     "data": {
      "text/html": [
       "<pre style=\"white-space:pre;overflow-x:auto;line-height:normal;font-family:Menlo,'DejaVu Sans Mono',consolas,'Courier New',monospace;margin:0px\"><span style=\"background-color: #d7af00; font-weight: bold\"> DISK </span> Writing <span style=\"color: #d7af00; text-decoration-color: #d7af00\">../knitwork/RNA-Cleft/RNA-Cleft_hits.sdf</span>...\n",
       "</pre>\n"
      ],
      "text/plain": [
       "\u001b[1;7;38;5;178m DISK \u001b[0m Writing \u001b[38;5;178m../knitwork/RNA-Cleft/RNA-Cleft_hits.sdf\u001b[0m...\n"
      ]
     },
     "metadata": {},
     "output_type": "display_data"
    },
    {
     "data": {
      "text/html": [
       "<pre style=\"white-space:pre;overflow-x:auto;line-height:normal;font-family:Menlo,'DejaVu Sans Mono',consolas,'Courier New',monospace;margin:0px\"><span style=\"color: #008080; text-decoration-color: #008080; font-weight: bold\">ref_pose</span> = <span style=\"font-weight: bold; text-decoration: underline\">C9-&gt;P9: \"7ga1-a\"</span>\n",
       "</pre>\n"
      ],
      "text/plain": [
       "\u001b[1;36mref_pose\u001b[0m = \u001b[1;4mC9->P9: \"7ga1-a\"\u001b[0m\n"
      ]
     },
     "metadata": {},
     "output_type": "display_data"
    }
   ],
   "source": [
    "for nickname, tag in merging_hypotheses.items():\n",
    "    \n",
    "    poses = animal.poses(tag=tag)\n",
    "    mrich.h3(nickname)\n",
    "    mrich.var(\"poses\", poses)\n",
    "\n",
    "    # knitwork\n",
    "    out_dir = Path(f\"../knitwork/{nickname}\")\n",
    "    poses.to_knitwork(out_dir / f\"{nickname}_input.csv\", path_root=out_dir, aligned_files_dir=\"../aligned_files\")\n",
    "\n",
    "    # # fragmenstein\n",
    "    poses.write_sdf(out_dir / f\"{nickname}_hits.sdf\")\n",
    "    shutil.copy(out_dir / f\"{nickname}_hits.sdf\", Path(f\"../fragmenstein/{nickname}\") / f\"{nickname}_hits.sdf\")\n",
    "\n",
    "    ref_pose = poses[0]\n",
    "    mrich.var(\"ref_pose\", ref_pose)\n",
    "    shutil.copy(ref_pose.apo_path, Path(f\"../fragmenstein/{nickname}\"))"
   ]
  },
  {
   "cell_type": "markdown",
   "id": "e54d68c1-9022-40ac-88a6-a3b514915270",
   "metadata": {},
   "source": [
    "### Create protonated PDBs for Knitwork"
   ]
  },
  {
   "cell_type": "code",
   "execution_count": 9,
   "id": "74c4e219-7ba4-41cd-b1ce-aa13e46196e7",
   "metadata": {},
   "outputs": [
    {
     "data": {
      "application/vnd.jupyter.widget-view+json": {
       "model_id": "70a6211d5b03424597b9f327530a6899",
       "version_major": 2,
       "version_minor": 0
      },
      "text/plain": [
       "Output()"
      ]
     },
     "metadata": {},
     "output_type": "display_data"
    },
    {
     "data": {
      "text/html": [
       "<pre style=\"white-space:pre;overflow-x:auto;line-height:normal;font-family:Menlo,'DejaVu Sans Mono',consolas,'Courier New',monospace;margin:0px\"><span style=\"background-color: #d7af00; font-weight: bold\"> DISK </span> Writing <span style=\"color: #d7af00; text-decoration-color: #d7af00\">../aligned_files/7ga1-a/7ga1-a_apo-desolv-Hs.pdb</span>...\n",
       "</pre>\n"
      ],
      "text/plain": [
       "\u001b[1;7;38;5;178m DISK \u001b[0m Writing \u001b[38;5;178m../aligned_files/7ga1-a/7ga1-a_apo-desolv-Hs.pdb\u001b[0m...\n"
      ]
     },
     "metadata": {},
     "output_type": "display_data"
    },
    {
     "data": {
      "text/html": [
       "<pre style=\"white-space:pre;overflow-x:auto;line-height:normal;font-family:Menlo,'DejaVu Sans Mono',consolas,'Courier New',monospace;margin:0px\"><span style=\"background-color: #ff8700; font-weight: bold\"> Warning </span><span style=\"color: #ff8700; text-decoration-color: #ff8700\"> fixer.missingAtoms={&lt;Residue 2 (LYS) of chain 0&gt;: [&lt;Atom 3 (CG) of chain 0 residue 0 (LYS)&gt;, &lt;Atom 4 (CD)</span>\n",
       "<span style=\"color: #ff8700; text-decoration-color: #ff8700\">of chain 0 residue 0 (LYS)&gt;, &lt;Atom 5 (CE) of chain 0 residue 0 (LYS)&gt;, &lt;Atom 6 (NZ) of chain 0 residue 0 (LYS)&gt;], </span>\n",
       "<span style=\"color: #ff8700; text-decoration-color: #ff8700\">&lt;Residue 4 (LYS) of chain 0&gt;: [&lt;Atom 3 (CG) of chain 0 residue 0 (LYS)&gt;, &lt;Atom 4 (CD) of chain 0 residue 0 (LYS)&gt;, </span>\n",
       "<span style=\"color: #ff8700; text-decoration-color: #ff8700\">&lt;Atom 5 (CE) of chain 0 residue 0 (LYS)&gt;, &lt;Atom 6 (NZ) of chain 0 residue 0 (LYS)&gt;]}!</span>\n",
       "</pre>\n"
      ],
      "text/plain": [
       "\u001b[1;7;38;5;208m Warning \u001b[0m\u001b[38;5;208m fixer.missingAtoms={<Residue 2 (LYS) of chain 0>: [<Atom 3 (CG) of chain 0 residue 0 (LYS)>, <Atom 4 (CD)\u001b[0m\n",
       "\u001b[38;5;208mof chain 0 residue 0 (LYS)>, <Atom 5 (CE) of chain 0 residue 0 (LYS)>, <Atom 6 (NZ) of chain 0 residue 0 (LYS)>], \u001b[0m\n",
       "\u001b[38;5;208m<Residue 4 (LYS) of chain 0>: [<Atom 3 (CG) of chain 0 residue 0 (LYS)>, <Atom 4 (CD) of chain 0 residue 0 (LYS)>, \u001b[0m\n",
       "\u001b[38;5;208m<Atom 5 (CE) of chain 0 residue 0 (LYS)>, <Atom 6 (NZ) of chain 0 residue 0 (LYS)>]}!\u001b[0m\n"
      ]
     },
     "metadata": {},
     "output_type": "display_data"
    },
    {
     "data": {
      "text/html": [
       "<pre style=\"white-space:pre;overflow-x:auto;line-height:normal;font-family:Menlo,'DejaVu Sans Mono',consolas,'Courier New',monospace;margin:0px\"><span style=\"background-color: #d7af00; font-weight: bold\"> DISK </span> Writing <span style=\"color: #d7af00; text-decoration-color: #d7af00\">../aligned_files/8v7u-a/8v7u-a_apo-desolv-Hs.pdb</span>...\n",
       "</pre>\n"
      ],
      "text/plain": [
       "\u001b[1;7;38;5;178m DISK \u001b[0m Writing \u001b[38;5;178m../aligned_files/8v7u-a/8v7u-a_apo-desolv-Hs.pdb\u001b[0m...\n"
      ]
     },
     "metadata": {},
     "output_type": "display_data"
    },
    {
     "data": {
      "text/html": [
       "<pre style=\"white-space:pre;overflow-x:auto;line-height:normal;font-family:Menlo,'DejaVu Sans Mono',consolas,'Courier New',monospace;margin:0px\"><span style=\"background-color: #d7af00; font-weight: bold\"> DISK </span> Writing <span style=\"color: #d7af00; text-decoration-color: #d7af00\">../aligned_files/7g9m-a/7g9m-a_apo-desolv-Hs.pdb</span>...\n",
       "</pre>\n"
      ],
      "text/plain": [
       "\u001b[1;7;38;5;178m DISK \u001b[0m Writing \u001b[38;5;178m../aligned_files/7g9m-a/7g9m-a_apo-desolv-Hs.pdb\u001b[0m...\n"
      ]
     },
     "metadata": {},
     "output_type": "display_data"
    },
    {
     "data": {
      "text/html": [
       "<pre style=\"white-space:pre;overflow-x:auto;line-height:normal;font-family:Menlo,'DejaVu Sans Mono',consolas,'Courier New',monospace;margin:0px\"><span style=\"background-color: #d7af00; font-weight: bold\"> DISK </span> Writing <span style=\"color: #d7af00; text-decoration-color: #d7af00\">../aligned_files/8um3-a/8um3-a_apo-desolv-Hs.pdb</span>...\n",
       "</pre>\n"
      ],
      "text/plain": [
       "\u001b[1;7;38;5;178m DISK \u001b[0m Writing \u001b[38;5;178m../aligned_files/8um3-a/8um3-a_apo-desolv-Hs.pdb\u001b[0m...\n"
      ]
     },
     "metadata": {},
     "output_type": "display_data"
    },
    {
     "data": {
      "text/html": [
       "<pre style=\"white-space:pre;overflow-x:auto;line-height:normal;font-family:Menlo,'DejaVu Sans Mono',consolas,'Courier New',monospace;margin:0px\"><span style=\"background-color: #d7af00; font-weight: bold\"> DISK </span> Writing <span style=\"color: #d7af00; text-decoration-color: #d7af00\">../aligned_files/7g9t-a/7g9t-a_apo-desolv-Hs.pdb</span>...\n",
       "</pre>\n"
      ],
      "text/plain": [
       "\u001b[1;7;38;5;178m DISK \u001b[0m Writing \u001b[38;5;178m../aligned_files/7g9t-a/7g9t-a_apo-desolv-Hs.pdb\u001b[0m...\n"
      ]
     },
     "metadata": {},
     "output_type": "display_data"
    },
    {
     "data": {
      "text/html": [
       "<pre style=\"white-space:pre;overflow-x:auto;line-height:normal;font-family:Menlo,'DejaVu Sans Mono',consolas,'Courier New',monospace;margin:0px\"><span style=\"background-color: #ff8700; font-weight: bold\"> Warning </span><span style=\"color: #ff8700; text-decoration-color: #ff8700\"> fixer.missingAtoms={&lt;Residue 2 (LYS) of chain 0&gt;: [&lt;Atom 3 (CG) of chain 0 residue 0 (LYS)&gt;, &lt;Atom 4 (CD)</span>\n",
       "<span style=\"color: #ff8700; text-decoration-color: #ff8700\">of chain 0 residue 0 (LYS)&gt;, &lt;Atom 5 (CE) of chain 0 residue 0 (LYS)&gt;, &lt;Atom 6 (NZ) of chain 0 residue 0 (LYS)&gt;], </span>\n",
       "<span style=\"color: #ff8700; text-decoration-color: #ff8700\">&lt;Residue 4 (LYS) of chain 0&gt;: [&lt;Atom 3 (CG) of chain 0 residue 0 (LYS)&gt;, &lt;Atom 4 (CD) of chain 0 residue 0 (LYS)&gt;, </span>\n",
       "<span style=\"color: #ff8700; text-decoration-color: #ff8700\">&lt;Atom 5 (CE) of chain 0 residue 0 (LYS)&gt;, &lt;Atom 6 (NZ) of chain 0 residue 0 (LYS)&gt;]}!</span>\n",
       "</pre>\n"
      ],
      "text/plain": [
       "\u001b[1;7;38;5;208m Warning \u001b[0m\u001b[38;5;208m fixer.missingAtoms={<Residue 2 (LYS) of chain 0>: [<Atom 3 (CG) of chain 0 residue 0 (LYS)>, <Atom 4 (CD)\u001b[0m\n",
       "\u001b[38;5;208mof chain 0 residue 0 (LYS)>, <Atom 5 (CE) of chain 0 residue 0 (LYS)>, <Atom 6 (NZ) of chain 0 residue 0 (LYS)>], \u001b[0m\n",
       "\u001b[38;5;208m<Residue 4 (LYS) of chain 0>: [<Atom 3 (CG) of chain 0 residue 0 (LYS)>, <Atom 4 (CD) of chain 0 residue 0 (LYS)>, \u001b[0m\n",
       "\u001b[38;5;208m<Atom 5 (CE) of chain 0 residue 0 (LYS)>, <Atom 6 (NZ) of chain 0 residue 0 (LYS)>]}!\u001b[0m\n"
      ]
     },
     "metadata": {},
     "output_type": "display_data"
    },
    {
     "data": {
      "text/html": [
       "<pre style=\"white-space:pre;overflow-x:auto;line-height:normal;font-family:Menlo,'DejaVu Sans Mono',consolas,'Courier New',monospace;margin:0px\"><span style=\"background-color: #d7af00; font-weight: bold\"> DISK </span> Writing <span style=\"color: #d7af00; text-decoration-color: #d7af00\">../aligned_files/5rhg-a/5rhg-a_apo-desolv-Hs.pdb</span>...\n",
       "</pre>\n"
      ],
      "text/plain": [
       "\u001b[1;7;38;5;178m DISK \u001b[0m Writing \u001b[38;5;178m../aligned_files/5rhg-a/5rhg-a_apo-desolv-Hs.pdb\u001b[0m...\n"
      ]
     },
     "metadata": {},
     "output_type": "display_data"
    },
    {
     "data": {
      "text/html": [
       "<pre style=\"white-space:pre;overflow-x:auto;line-height:normal;font-family:Menlo,'DejaVu Sans Mono',consolas,'Courier New',monospace;margin:0px\"><span style=\"background-color: #d7af00; font-weight: bold\"> DISK </span> Writing <span style=\"color: #d7af00; text-decoration-color: #d7af00\">../aligned_files/7ga2-a/7ga2-a_apo-desolv-Hs.pdb</span>...\n",
       "</pre>\n"
      ],
      "text/plain": [
       "\u001b[1;7;38;5;178m DISK \u001b[0m Writing \u001b[38;5;178m../aligned_files/7ga2-a/7ga2-a_apo-desolv-Hs.pdb\u001b[0m...\n"
      ]
     },
     "metadata": {},
     "output_type": "display_data"
    },
    {
     "data": {
      "text/html": [
       "<pre style=\"white-space:pre;overflow-x:auto;line-height:normal;font-family:Menlo,'DejaVu Sans Mono',consolas,'Courier New',monospace;margin:0px\"><span style=\"background-color: #d7af00; font-weight: bold\"> DISK </span> Writing <span style=\"color: #d7af00; text-decoration-color: #d7af00\">../aligned_files/7ga3-a/7ga3-a_apo-desolv-Hs.pdb</span>...\n",
       "</pre>\n"
      ],
      "text/plain": [
       "\u001b[1;7;38;5;178m DISK \u001b[0m Writing \u001b[38;5;178m../aligned_files/7ga3-a/7ga3-a_apo-desolv-Hs.pdb\u001b[0m...\n"
      ]
     },
     "metadata": {},
     "output_type": "display_data"
    },
    {
     "data": {
      "text/html": [
       "<pre style=\"white-space:pre;overflow-x:auto;line-height:normal;font-family:Menlo,'DejaVu Sans Mono',consolas,'Courier New',monospace;margin:0px\"><span style=\"background-color: #ff8700; font-weight: bold\"> Warning </span><span style=\"color: #ff8700; text-decoration-color: #ff8700\"> fixer.missingAtoms={&lt;Residue 2 (LYS) of chain 0&gt;: [&lt;Atom 3 (CG) of chain 0 residue 0 (LYS)&gt;, &lt;Atom 4 (CD)</span>\n",
       "<span style=\"color: #ff8700; text-decoration-color: #ff8700\">of chain 0 residue 0 (LYS)&gt;, &lt;Atom 5 (CE) of chain 0 residue 0 (LYS)&gt;, &lt;Atom 6 (NZ) of chain 0 residue 0 (LYS)&gt;], </span>\n",
       "<span style=\"color: #ff8700; text-decoration-color: #ff8700\">&lt;Residue 4 (LYS) of chain 0&gt;: [&lt;Atom 3 (CG) of chain 0 residue 0 (LYS)&gt;, &lt;Atom 4 (CD) of chain 0 residue 0 (LYS)&gt;, </span>\n",
       "<span style=\"color: #ff8700; text-decoration-color: #ff8700\">&lt;Atom 5 (CE) of chain 0 residue 0 (LYS)&gt;, &lt;Atom 6 (NZ) of chain 0 residue 0 (LYS)&gt;]}!</span>\n",
       "</pre>\n"
      ],
      "text/plain": [
       "\u001b[1;7;38;5;208m Warning \u001b[0m\u001b[38;5;208m fixer.missingAtoms={<Residue 2 (LYS) of chain 0>: [<Atom 3 (CG) of chain 0 residue 0 (LYS)>, <Atom 4 (CD)\u001b[0m\n",
       "\u001b[38;5;208mof chain 0 residue 0 (LYS)>, <Atom 5 (CE) of chain 0 residue 0 (LYS)>, <Atom 6 (NZ) of chain 0 residue 0 (LYS)>], \u001b[0m\n",
       "\u001b[38;5;208m<Residue 4 (LYS) of chain 0>: [<Atom 3 (CG) of chain 0 residue 0 (LYS)>, <Atom 4 (CD) of chain 0 residue 0 (LYS)>, \u001b[0m\n",
       "\u001b[38;5;208m<Atom 5 (CE) of chain 0 residue 0 (LYS)>, <Atom 6 (NZ) of chain 0 residue 0 (LYS)>]}!\u001b[0m\n"
      ]
     },
     "metadata": {},
     "output_type": "display_data"
    },
    {
     "data": {
      "text/html": [
       "<pre style=\"white-space:pre;overflow-x:auto;line-height:normal;font-family:Menlo,'DejaVu Sans Mono',consolas,'Courier New',monospace;margin:0px\"><span style=\"background-color: #d7af00; font-weight: bold\"> DISK </span> Writing <span style=\"color: #d7af00; text-decoration-color: #d7af00\">../aligned_files/8v7r-b/8v7r-b_apo-desolv-Hs.pdb</span>...\n",
       "</pre>\n"
      ],
      "text/plain": [
       "\u001b[1;7;38;5;178m DISK \u001b[0m Writing \u001b[38;5;178m../aligned_files/8v7r-b/8v7r-b_apo-desolv-Hs.pdb\u001b[0m...\n"
      ]
     },
     "metadata": {},
     "output_type": "display_data"
    },
    {
     "data": {
      "text/html": [
       "<pre style=\"white-space:pre;overflow-x:auto;line-height:normal;font-family:Menlo,'DejaVu Sans Mono',consolas,'Courier New',monospace;margin:0px\"><span style=\"background-color: #d7af00; font-weight: bold\"> DISK </span> Writing <span style=\"color: #d7af00; text-decoration-color: #d7af00\">../aligned_files/7g9y-a/7g9y-a_apo-desolv-Hs.pdb</span>...\n",
       "</pre>\n"
      ],
      "text/plain": [
       "\u001b[1;7;38;5;178m DISK \u001b[0m Writing \u001b[38;5;178m../aligned_files/7g9y-a/7g9y-a_apo-desolv-Hs.pdb\u001b[0m...\n"
      ]
     },
     "metadata": {},
     "output_type": "display_data"
    },
    {
     "data": {
      "text/html": [
       "<pre style=\"white-space:pre;overflow-x:auto;line-height:normal;font-family:Menlo,'DejaVu Sans Mono',consolas,'Courier New',monospace;margin:0px\"><span style=\"background-color: #d7af00; font-weight: bold\"> DISK </span> Writing <span style=\"color: #d7af00; text-decoration-color: #d7af00\">../aligned_files/7g9k-a/7g9k-a_apo-desolv-Hs.pdb</span>...\n",
       "</pre>\n"
      ],
      "text/plain": [
       "\u001b[1;7;38;5;178m DISK \u001b[0m Writing \u001b[38;5;178m../aligned_files/7g9k-a/7g9k-a_apo-desolv-Hs.pdb\u001b[0m...\n"
      ]
     },
     "metadata": {},
     "output_type": "display_data"
    },
    {
     "data": {
      "text/html": [
       "<pre style=\"white-space:pre;overflow-x:auto;line-height:normal;font-family:Menlo,'DejaVu Sans Mono',consolas,'Courier New',monospace;margin:0px\"></pre>\n"
      ],
      "text/plain": []
     },
     "metadata": {},
     "output_type": "display_data"
    }
   ],
   "source": [
    "for nickname, tag in merging_hypotheses.items():\n",
    "    poses = animal.poses(tag=tag)\n",
    "    for pose in mrich.track(poses):\n",
    "        path = pose.apo_path\n",
    "        sys = mp.parse(path,verbosity=False)\n",
    "        sys.add_hydrogens(pH=7)\n",
    "        subdir = Path(\"../aligned_files\")/pose.name\n",
    "        subdir.mkdir(exist_ok=True, parents=True)\n",
    "        sys.write(subdir / str(path.name).replace('_apo-desolv.pdb', '_apo-desolv-Hs.pdb'), verbosity=1)"
   ]
  },
  {
   "cell_type": "markdown",
   "id": "d88906c1-aaf4-4033-a5de-6b3d68c3c109",
   "metadata": {},
   "source": [
    "## Backup and close database"
   ]
  },
  {
   "cell_type": "code",
   "execution_count": 10,
   "id": "ca54fd94-5762-4557-a8f5-62e60eef583e",
   "metadata": {},
   "outputs": [
    {
     "data": {
      "text/html": [
       "<pre style=\"white-space:pre;overflow-x:auto;line-height:normal;font-family:Menlo,'DejaVu Sans Mono',consolas,'Courier New',monospace;margin:0px\"><span style=\"background-color: #d7af00; font-weight: bold\"> DISK </span> Writing \n",
       "<span style=\"color: #d7af00; text-decoration-color: #d7af00\">/opt/xchem-fragalysis-2/maxwin/BulkDock/TARGETS/ZIKA_NS3_helicase/ZIKA_NS3_helicase_0AJP90O.sqlite</span>...\n",
       "</pre>\n"
      ],
      "text/plain": [
       "\u001b[1;7;38;5;178m DISK \u001b[0m Writing \n",
       "\u001b[38;5;178m/opt/xchem-fragalysis-2/maxwin/BulkDock/TARGETS/ZIKA_NS3_helicase/ZIKA_NS3_helicase_0AJP90O.sqlite\u001b[0m...\n"
      ]
     },
     "metadata": {},
     "output_type": "display_data"
    },
    {
     "data": {
      "text/html": [
       "<pre style=\"white-space:pre;overflow-x:auto;line-height:normal;font-family:Menlo,'DejaVu Sans Mono',consolas,'Courier New',monospace;margin:0px\"><span style=\"color: #808080; text-decoration-color: #808080\">DEBUG: Copied 139 of 139 pages...</span>\n",
       "</pre>\n"
      ],
      "text/plain": [
       "\u001b[90mDEBUG: Copied 139 of 139 pages...\u001b[0m\n"
      ]
     },
     "metadata": {},
     "output_type": "display_data"
    },
    {
     "data": {
      "text/html": [
       "<pre style=\"white-space:pre;overflow-x:auto;line-height:normal;font-family:Menlo,'DejaVu Sans Mono',consolas,'Courier New',monospace;margin:0px\"></pre>\n"
      ],
      "text/plain": []
     },
     "metadata": {},
     "output_type": "display_data"
    },
    {
     "data": {
      "text/html": [
       "<pre style=\"white-space:pre;overflow-x:auto;line-height:normal;font-family:Menlo,'DejaVu Sans Mono',consolas,'Courier New',monospace;margin:0px\"><span style=\"color: #808080; text-decoration-color: #808080\">DEBUG: hippo.Database.close()</span>\n",
       "</pre>\n"
      ],
      "text/plain": [
       "\u001b[90mDEBUG: hippo.Database.close()\u001b[0m\n"
      ]
     },
     "metadata": {},
     "output_type": "display_data"
    },
    {
     "name": "stdout",
     "output_type": "stream",
     "text": [
      "\u001b[32;1mClosed connection to /opt/xchem-fragalysis-2/maxwin/BulkDock/TARGETS/ZIKA_NS3_helicase/ZIKA_NS3_helicase.sqlite\u001b[0m\u001b[0m\n"
     ]
    }
   ],
   "source": [
    "animal.db.backup()\n",
    "animal.db.close()"
   ]
  },
  {
   "cell_type": "code",
   "execution_count": null,
   "id": "9fe03c4f-b98b-44fa-a0a6-1c71e8f25640",
   "metadata": {},
   "outputs": [],
   "source": []
  }
 ],
 "metadata": {
  "kernelspec": {
   "display_name": "Python 3 (ipykernel)",
   "language": "python",
   "name": "python3"
  },
  "language_info": {
   "codemirror_mode": {
    "name": "ipython",
    "version": 3
   },
   "file_extension": ".py",
   "mimetype": "text/x-python",
   "name": "python",
   "nbconvert_exporter": "python",
   "pygments_lexer": "ipython3",
   "version": "3.12.8"
  }
 },
 "nbformat": 4,
 "nbformat_minor": 5
}
