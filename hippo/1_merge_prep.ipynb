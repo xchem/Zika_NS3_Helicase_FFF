{
 "cells": [
  {
   "cell_type": "markdown",
   "id": "2647d525-7b2a-450f-bfdf-372bb714fc68",
   "metadata": {},
   "source": [
    "# FFF step 1: merge prep"
   ]
  },
  {
   "cell_type": "code",
   "execution_count": null,
   "id": "2219f460-cee0-4c10-8a51-5d8b6d3201bd",
   "metadata": {},
   "outputs": [],
   "source": [
    "%load_ext autoreload\n",
    "%autoreload 2\n",
    "import hippo\n",
    "from os import environ, system\n",
    "from pathlib import Path\n",
    "import json\n",
    "from mrich import print\n",
    "import mrich\n",
    "import shutil\n",
    "import molparse as mp"
   ]
  },
  {
   "cell_type": "markdown",
   "id": "2a66de41-9717-4596-b59e-51314d1f4620",
   "metadata": {},
   "source": [
    "## Get BulkDock HIPPO database"
   ]
  },
  {
   "cell_type": "code",
   "execution_count": null,
   "id": "459f31a9-ffa0-48b4-812c-ad4348980cd9",
   "metadata": {},
   "outputs": [],
   "source": [
    "target_name = \"CpKRS\""
   ]
  },
  {
   "cell_type": "code",
   "execution_count": null,
   "id": "567a1c07-ae3c-4dcf-9e54-8ad222e0e493",
   "metadata": {},
   "outputs": [],
   "source": [
    "animal = hippo.HIPPO(target_name, Path(environ[\"BULK\"])/\"TARGETS\"/target_name/f\"{target_name}.sqlite\")"
   ]
  },
  {
   "cell_type": "markdown",
   "id": "4e56bff2-81ef-4e06-9e6c-3a5f01c06557",
   "metadata": {},
   "source": [
    "## Define merging hypotheses"
   ]
  },
  {
   "cell_type": "code",
   "execution_count": null,
   "id": "04bba1aa-bd5a-49f6-9f32-aa8b75a2f1ed",
   "metadata": {},
   "outputs": [],
   "source": [
    "animal.tags.unique"
   ]
  },
  {
   "cell_type": "code",
   "execution_count": null,
   "id": "76b287d7-38ba-4f3c-a792-80a9eb22dcee",
   "metadata": {},
   "outputs": [],
   "source": [
    "merging_hypotheses = {\n",
    "    # nickname: tag,\n",
    "    \"iter1\" : \"[Other] upload_1 2024-12-12\",\n",
    "}\n",
    "\n",
    "json.dump(merging_hypotheses, open(\"merging_hypotheses.json\", \"wt\"))"
   ]
  },
  {
   "cell_type": "code",
   "execution_count": null,
   "id": "166d35e4-0a9c-4573-be28-f2858cabbe92",
   "metadata": {},
   "outputs": [],
   "source": [
    "# rename things in the README for convenience\n",
    "system(f\"sed -i 's/TARGET_NAME/{target_name}/g' ../README.md\")\n",
    "system(f\"sed -i 's/HYPOTHESIS_NICKNAME/{list(merging_hypotheses.keys())[0]}/g' ../README.md\")"
   ]
  },
  {
   "cell_type": "markdown",
   "id": "19e3a917-2110-4efd-89de-61492202c3c5",
   "metadata": {},
   "source": [
    "## Create subdirectories"
   ]
  },
  {
   "cell_type": "code",
   "execution_count": null,
   "id": "8e47e7fc-7d33-4b30-8137-1d636da02dd5",
   "metadata": {},
   "outputs": [],
   "source": [
    "for nickname in merging_hypotheses:\n",
    "    (Path(\"../fragmenstein\") / nickname).mkdir(exist_ok=True, parents=True)\n",
    "    (Path(\"../knitwork\") / nickname).mkdir(exist_ok=True, parents=True)\n",
    "    (Path(\"../syndirella\") / nickname).mkdir(exist_ok=True, parents=True)"
   ]
  },
  {
   "cell_type": "markdown",
   "id": "2fe6f3a6-9125-41ac-b0c4-fb5128308570",
   "metadata": {},
   "source": [
    "## Knitwork & Fragmenstein inputs\n",
    "\n",
    "### Create input SDFs & CSVs"
   ]
  },
  {
   "cell_type": "code",
   "execution_count": null,
   "id": "2cc75013-8170-40a0-8e10-8d704ec7c155",
   "metadata": {},
   "outputs": [],
   "source": [
    "for nickname, tag in merging_hypotheses.items():\n",
    "    \n",
    "    poses = animal.poses(tag=tag)\n",
    "    mrich.h3(nickname)\n",
    "    mrich.var(\"poses\", poses)\n",
    "\n",
    "    # knitwork\n",
    "    out_dir = Path(f\"../knitwork/{nickname}\")\n",
    "    poses.to_knitwork(out_dir / f\"{nickname}_input.csv\", path_root=out_dir, aligned_files_dir=\"../aligned_files\")\n",
    "\n",
    "    # # fragmenstein\n",
    "    poses.write_sdf(out_dir / f\"{nickname}_hits.sdf\")\n",
    "    shutil.copy(out_dir / f\"{nickname}_hits.sdf\", Path(f\"../fragmenstein/{nickname}\") / f\"{nickname}_hits.sdf\")\n",
    "\n",
    "    ref_pose = poses[0]\n",
    "    mrich.var(\"ref_pose\", ref_pose)\n",
    "    shutil.copy(ref_pose.apo_path, Path(f\"../fragmenstein/{nickname}\"))"
   ]
  },
  {
   "cell_type": "markdown",
   "id": "e54d68c1-9022-40ac-88a6-a3b514915270",
   "metadata": {},
   "source": [
    "### Create protonated PDBs for Knitwork"
   ]
  },
  {
   "cell_type": "code",
   "execution_count": null,
   "id": "74c4e219-7ba4-41cd-b1ce-aa13e46196e7",
   "metadata": {},
   "outputs": [],
   "source": [
    "for nickname, tag in merging_hypotheses.items():\n",
    "    poses = animal.poses(tag=tag)\n",
    "    for pose in mrich.track(poses):\n",
    "        path = pose.apo_path\n",
    "        sys = mp.parse(path,verbosity=False)\n",
    "        sys.add_hydrogens(pH=7)\n",
    "        subdir = Path(\"../aligned_files\")/pose.name\n",
    "        subdir.mkdir(exist_ok=True, parents=True)\n",
    "        sys.write(subdir / str(path.name).replace('_apo-desolv.pdb', '_apo-desolv-Hs.pdb'), verbosity=1)"
   ]
  },
  {
   "cell_type": "markdown",
   "id": "d88906c1-aaf4-4033-a5de-6b3d68c3c109",
   "metadata": {},
   "source": [
    "## Backup and close database"
   ]
  },
  {
   "cell_type": "code",
   "execution_count": null,
   "id": "ca54fd94-5762-4557-a8f5-62e60eef583e",
   "metadata": {},
   "outputs": [],
   "source": [
    "animal.db.backup()\n",
    "animal.db.close()"
   ]
  },
  {
   "cell_type": "code",
   "execution_count": null,
   "id": "9fe03c4f-b98b-44fa-a0a6-1c71e8f25640",
   "metadata": {},
   "outputs": [],
   "source": []
  }
 ],
 "metadata": {
  "kernelspec": {
   "display_name": "Python 3 (ipykernel)",
   "language": "python",
   "name": "python3"
  },
  "language_info": {
   "codemirror_mode": {
    "name": "ipython",
    "version": 3
   },
   "file_extension": ".py",
   "mimetype": "text/x-python",
   "name": "python",
   "nbconvert_exporter": "python",
   "pygments_lexer": "ipython3",
   "version": "3.12.8"
  }
 },
 "nbformat": 4,
 "nbformat_minor": 5
}
